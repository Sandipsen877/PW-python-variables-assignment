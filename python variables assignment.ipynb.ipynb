{
 "cells": [
  {
   "cell_type": "markdown",
   "id": "8f19c2e5-9e8d-4b16-ab91-f005ee7e4c98",
   "metadata": {},
   "source": [
    "1. Conventions being follwed while declaring variable"
   ]
  },
  {
   "cell_type": "markdown",
   "id": "c99ffde6-a626-4e5e-a059-e9db2f7085b7",
   "metadata": {
    "tags": []
   },
   "source": [
    "A variable name must start with a letter or an underscore character(_)\n",
    "A Variable name cannot start with a digit\n",
    "A variable name can only contain alpha-numeric characters and underscores (a-z,A-Z,0-9,_)                                                          variable names are case sensitive and it cannot contain spaces\n"
   ]
  },
  {
   "cell_type": "code",
   "execution_count": 1,
   "id": "fe30eed6-9948-4a88-bf57-322232bc2bb3",
   "metadata": {},
   "outputs": [],
   "source": [
    "Vari_able=234"
   ]
  },
  {
   "cell_type": "code",
   "execution_count": 2,
   "id": "ee131fe0-39c8-4e48-9e72-9d800f45ca35",
   "metadata": {},
   "outputs": [
    {
     "data": {
      "text/plain": [
       "234"
      ]
     },
     "execution_count": 2,
     "metadata": {},
     "output_type": "execute_result"
    }
   ],
   "source": [
    "Vari_able"
   ]
  },
  {
   "cell_type": "markdown",
   "id": "10f4d11e-9583-40d8-a74f-f68c7d551634",
   "metadata": {},
   "source": [
    "2.If we declare a restricted keyword as a vaiable then we will get a SyntaxError:invalid syntax"
   ]
  },
  {
   "cell_type": "code",
   "execution_count": 6,
   "id": "ec3b69f2-4250-4890-95cd-5a649788bc3c",
   "metadata": {},
   "outputs": [
    {
     "ename": "SyntaxError",
     "evalue": "invalid syntax (3142701105.py, line 1)",
     "output_type": "error",
     "traceback": [
      "\u001b[0;36m  Cell \u001b[0;32mIn[6], line 1\u001b[0;36m\u001b[0m\n\u001b[0;31m    if=12\u001b[0m\n\u001b[0m      ^\u001b[0m\n\u001b[0;31mSyntaxError\u001b[0m\u001b[0;31m:\u001b[0m invalid syntax\n"
     ]
    }
   ],
   "source": [
    "if=12"
   ]
  },
  {
   "cell_type": "markdown",
   "id": "77313da1-6406-4c6e-a0cd-831ec42021fc",
   "metadata": {},
   "source": [
    "3.Yes we can declare string as a variable name "
   ]
  },
  {
   "cell_type": "code",
   "execution_count": 7,
   "id": "69679bad-8ed8-47ec-851c-00407be540b0",
   "metadata": {},
   "outputs": [],
   "source": [
    "a=\"pwskils\""
   ]
  },
  {
   "cell_type": "code",
   "execution_count": 8,
   "id": "7c5cad5c-7c7b-4234-80ba-9b728562de56",
   "metadata": {},
   "outputs": [],
   "source": [
    "b=\"My name is sandip\""
   ]
  },
  {
   "cell_type": "code",
   "execution_count": 9,
   "id": "fb9820ef-ab5f-46cc-a4c0-12b0e93bc37a",
   "metadata": {},
   "outputs": [
    {
     "data": {
      "text/plain": [
       "str"
      ]
     },
     "execution_count": 9,
     "metadata": {},
     "output_type": "execute_result"
    }
   ],
   "source": [
    "type(a)"
   ]
  },
  {
   "cell_type": "code",
   "execution_count": 10,
   "id": "62e88344-150a-4585-b47f-e21279794c2c",
   "metadata": {},
   "outputs": [],
   "source": [
    "pwskills=\"My name is sandip\""
   ]
  },
  {
   "cell_type": "code",
   "execution_count": 11,
   "id": "e2b518cc-897f-4751-a726-09a32c76e6f6",
   "metadata": {},
   "outputs": [
    {
     "data": {
      "text/plain": [
       "'My name is sandip'"
      ]
     },
     "execution_count": 11,
     "metadata": {},
     "output_type": "execute_result"
    }
   ],
   "source": [
    "pwskills"
   ]
  },
  {
   "cell_type": "code",
   "execution_count": 12,
   "id": "f668e69e-20ea-41c1-8c03-375f6e69ac06",
   "metadata": {},
   "outputs": [],
   "source": [
    "pwskills=1234"
   ]
  },
  {
   "cell_type": "code",
   "execution_count": 13,
   "id": "2e211863-2722-4a2a-87c0-de4c0a05b56d",
   "metadata": {},
   "outputs": [
    {
     "data": {
      "text/plain": [
       "1234"
      ]
     },
     "execution_count": 13,
     "metadata": {},
     "output_type": "execute_result"
    }
   ],
   "source": [
    "pwskills"
   ]
  },
  {
   "cell_type": "markdown",
   "id": "19afd2f8-26cd-4a4a-8f9b-7e2451fd59e0",
   "metadata": {},
   "source": [
    "4.Yes we can declare \"_\" as a variable "
   ]
  },
  {
   "cell_type": "code",
   "execution_count": 14,
   "id": "cce8bc69-afb6-4f08-ab68-d393b61dca63",
   "metadata": {},
   "outputs": [],
   "source": [
    "_=23.456"
   ]
  },
  {
   "cell_type": "code",
   "execution_count": 15,
   "id": "2b09613d-e1fb-4f3c-bf3d-9e4b3a28f8dd",
   "metadata": {},
   "outputs": [
    {
     "data": {
      "text/plain": [
       "23.456"
      ]
     },
     "execution_count": 15,
     "metadata": {},
     "output_type": "execute_result"
    }
   ],
   "source": [
    "_"
   ]
  },
  {
   "cell_type": "code",
   "execution_count": 16,
   "id": "0e2c2281-ad5e-4db1-adae-6d5cf53b4997",
   "metadata": {},
   "outputs": [
    {
     "data": {
      "text/plain": [
       "float"
      ]
     },
     "execution_count": 16,
     "metadata": {},
     "output_type": "execute_result"
    }
   ],
   "source": [
    "type(_)"
   ]
  },
  {
   "cell_type": "markdown",
   "id": "8f60ca73-2d5d-4c71-a599-e117eb17d62c",
   "metadata": {},
   "source": [
    "5.Variables in python are dynamic in nature"
   ]
  },
  {
   "cell_type": "code",
   "execution_count": 17,
   "id": "66fe2b8d-3dda-4e9e-b7fe-352117d5f99a",
   "metadata": {},
   "outputs": [],
   "source": [
    "A=345"
   ]
  },
  {
   "cell_type": "code",
   "execution_count": 19,
   "id": "a2e0e857-f6a9-4420-8d84-2965cfc78236",
   "metadata": {},
   "outputs": [
    {
     "data": {
      "text/plain": [
       "345"
      ]
     },
     "execution_count": 19,
     "metadata": {},
     "output_type": "execute_result"
    }
   ],
   "source": [
    "A"
   ]
  },
  {
   "cell_type": "code",
   "execution_count": 20,
   "id": "c3b4aaf2-7c39-4fdd-9655-6d1f84688fd4",
   "metadata": {},
   "outputs": [
    {
     "data": {
      "text/plain": [
       "int"
      ]
     },
     "execution_count": 20,
     "metadata": {},
     "output_type": "execute_result"
    }
   ],
   "source": [
    "type(A)"
   ]
  },
  {
   "cell_type": "code",
   "execution_count": 21,
   "id": "e3f82c79-3594-4e6f-aadd-8cb81869bc2a",
   "metadata": {},
   "outputs": [],
   "source": [
    "A=\"college wallah\""
   ]
  },
  {
   "cell_type": "code",
   "execution_count": 22,
   "id": "c2f80c76-88b2-4a1e-91d8-689b1a3e4f91",
   "metadata": {},
   "outputs": [
    {
     "data": {
      "text/plain": [
       "'college wallah'"
      ]
     },
     "execution_count": 22,
     "metadata": {},
     "output_type": "execute_result"
    }
   ],
   "source": [
    "A"
   ]
  },
  {
   "cell_type": "code",
   "execution_count": 23,
   "id": "b193af23-1d7e-4464-a309-2b0eaad66e7b",
   "metadata": {},
   "outputs": [
    {
     "data": {
      "text/plain": [
       "str"
      ]
     },
     "execution_count": 23,
     "metadata": {},
     "output_type": "execute_result"
    }
   ],
   "source": [
    "type(A)"
   ]
  },
  {
   "cell_type": "code",
   "execution_count": 24,
   "id": "6adbe91a-5f10-4b14-b546-b344c142bf8b",
   "metadata": {},
   "outputs": [],
   "source": [
    "A=8+5j"
   ]
  },
  {
   "cell_type": "code",
   "execution_count": 25,
   "id": "0e804504-ed8e-46a4-b257-9389212c7b9b",
   "metadata": {},
   "outputs": [
    {
     "data": {
      "text/plain": [
       "(8+5j)"
      ]
     },
     "execution_count": 25,
     "metadata": {},
     "output_type": "execute_result"
    }
   ],
   "source": [
    "A"
   ]
  },
  {
   "cell_type": "code",
   "execution_count": 26,
   "id": "169bde9a-719f-4b9c-9dd6-1c42d0a1589a",
   "metadata": {},
   "outputs": [
    {
     "data": {
      "text/plain": [
       "complex"
      ]
     },
     "execution_count": 26,
     "metadata": {},
     "output_type": "execute_result"
    }
   ],
   "source": [
    "type(A)"
   ]
  },
  {
   "cell_type": "code",
   "execution_count": null,
   "id": "c9bed4b0-6653-4133-a3e5-532798ae58c7",
   "metadata": {},
   "outputs": [],
   "source": []
  }
 ],
 "metadata": {
  "kernelspec": {
   "display_name": "Python 3 (ipykernel)",
   "language": "python",
   "name": "python3"
  },
  "language_info": {
   "codemirror_mode": {
    "name": "ipython",
    "version": 3
   },
   "file_extension": ".py",
   "mimetype": "text/x-python",
   "name": "python",
   "nbconvert_exporter": "python",
   "pygments_lexer": "ipython3",
   "version": "3.10.8"
  }
 },
 "nbformat": 4,
 "nbformat_minor": 5
}
